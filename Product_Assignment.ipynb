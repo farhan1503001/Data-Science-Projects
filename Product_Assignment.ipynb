{
  "nbformat": 4,
  "nbformat_minor": 0,
  "metadata": {
    "colab": {
      "name": "Product Assignment.ipynb",
      "provenance": [],
      "authorship_tag": "ABX9TyMkQUAiAIjhma2M0C8VqBlE",
      "include_colab_link": true
    },
    "kernelspec": {
      "name": "python3",
      "display_name": "Python 3"
    },
    "language_info": {
      "name": "python"
    }
  },
  "cells": [
    {
      "cell_type": "markdown",
      "metadata": {
        "id": "view-in-github",
        "colab_type": "text"
      },
      "source": [
        "<a href=\"https://colab.research.google.com/github/farhan1503001/Investigating-Netflix-Movies-and-Guest-Stars-in-The-Office/blob/main/Product_Assignment.ipynb\" target=\"_parent\"><img src=\"https://colab.research.google.com/assets/colab-badge.svg\" alt=\"Open In Colab\"/></a>"
      ]
    },
    {
      "cell_type": "code",
      "metadata": {
        "id": "mADcdM3njid8"
      },
      "source": [
        "import pandas as pd\n",
        "import numpy as np\n",
        "import seaborn as sns\n",
        "import matplotlib.pyplot as plt"
      ],
      "execution_count": 342,
      "outputs": []
    },
    {
      "cell_type": "markdown",
      "metadata": {
        "id": "vIb_-4sKZxlw"
      },
      "source": [
        "# Reading Data From File"
      ]
    },
    {
      "cell_type": "code",
      "metadata": {
        "id": "2lvqXqTXj4Vx"
      },
      "source": [
        "dataset=pd.read_csv('Products.csv')"
      ],
      "execution_count": 343,
      "outputs": []
    },
    {
      "cell_type": "code",
      "metadata": {
        "colab": {
          "base_uri": "https://localhost:8080/"
        },
        "id": "dJFHKw_skAbi",
        "outputId": "6324fc3a-008c-4c56-cdec-595186b569c0"
      },
      "source": [
        "print(dataset.head(50))"
      ],
      "execution_count": 344,
      "outputs": [
        {
          "output_type": "stream",
          "text": [
            "    Product Id Weight (kg) Length (m) Width (m) Height (m)\n",
            "0        44331       1.025     0.2286    0.1524     0.0508\n",
            "1        44352       0.504       0.14      0.04       0.16\n",
            "2        44373       0.488      0.105     0.105      0.075\n",
            "3        44394      1.0028       0.11      0.11       0.15\n",
            "4        44415        0.55       0.13      0.13       0.11\n",
            "5        44436       0.045       0.08      0.08       0.26\n",
            "6        44457       0.224       0.15      0.13       0.03\n",
            "7        44478       0.246       0.13      0.03       0.14\n",
            "8        44499       2.003       0.36      0.26       0.04\n",
            "9        44520      1.0018       0.28      0.21       0.05\n",
            "10       44541       1.005     0.1397    0.1905     0.0445\n",
            "11       44562      0.0497       0.22      0.14      0.025\n",
            "12       44583           0          0         0          0\n",
            "13       44604        0.07      0.125      0.09       0.03\n",
            "14       44625         0.5       0.07      0.07       0.14\n",
            "15       44646         0.5       0.07      0.07       0.14\n",
            "16       44667       0.056      0.065     0.065       0.25\n",
            "17       44688       0.554       0.08      0.05       0.22\n",
            "18       44709        0.42       0.07      0.07      0.115\n",
            "19       44730       0.782       0.08      0.08       0.15\n",
            "20       44751      1.0344     0.1016    0.1016     0.1778\n",
            "21       44772           0          0         0          0\n",
            "22       44793       0.201       0.06     0.048      0.115\n",
            "23       44814       0.213       0.17      0.12       0.05\n",
            "24       44835      0.0442     0.1143    0.0508     0.1651\n",
            "25       44856           0          0         0          0\n",
            "26       44877       0.265       0.05      0.05       0.11\n",
            "27       44898           0          0         0          0\n",
            "28       44919           0          0         0          0\n",
            "29       44940           0          0         0          0\n",
            "30       44961         0.1       0.17      0.08       0.04\n",
            "31       44982         0.9       0.11      0.11       0.11\n",
            "32       45003           0          0         0          0\n",
            "33       45024         NaN     0.1143    0.2286     0.0762\n",
            "34       45045       0.395     0.2032    0.2032     0.1143\n",
            "35       45066           0          0         0          0\n",
            "36       45087       0.574      0.055     0.055       0.21\n",
            "37       45108           0          0         0          0\n",
            "38       45129           0          0         0          0\n",
            "39       45150           0          0         0          0\n",
            "40       45171        0.55       0.07      0.07       0.21\n",
            "41       45192         0.4       0.15      0.06     0.1524\n",
            "42       45213           0          0         0          0\n",
            "43       45234       0.034       0.16      0.12       0.08\n",
            "44       45255        0.15       0.16      0.13       0.05\n",
            "45       45276         0.2       0.06      0.13        0.2\n",
            "46       45297       0.022        NaN      0.16       0.07\n",
            "47       45318        0.46      0.085     0.085      0.195\n",
            "48       45339       0.041        0.2      0.16       0.04\n",
            "49       45360       0.168       0.15      0.09       0.06\n"
          ],
          "name": "stdout"
        }
      ]
    },
    {
      "cell_type": "markdown",
      "metadata": {
        "id": "XkIsAUkdZ_e6"
      },
      "source": [
        "# Observation From Dataset\n",
        "\n",
        "**Problem-1: Presence of Alphanumaric value**\n",
        "\n",
        "**Problem-2: Presence of Huge number of empty/null values**\n",
        "\n",
        "**Problem-3:Presence of Outlier values in each section**"
      ]
    },
    {
      "cell_type": "code",
      "metadata": {
        "colab": {
          "base_uri": "https://localhost:8080/"
        },
        "id": "7-4UQPu4mQXZ",
        "outputId": "f2d45678-4659-4907-ca75-0a9e2e7e33f9"
      },
      "source": [
        "dataset.keys()"
      ],
      "execution_count": 345,
      "outputs": [
        {
          "output_type": "execute_result",
          "data": {
            "text/plain": [
              "Index(['Product Id', 'Weight (kg)', 'Length (m)', 'Width (m)', 'Height (m)'], dtype='object')"
            ]
          },
          "metadata": {
            "tags": []
          },
          "execution_count": 345
        }
      ]
    },
    {
      "cell_type": "code",
      "metadata": {
        "colab": {
          "base_uri": "https://localhost:8080/"
        },
        "id": "oi4skm-5n1As",
        "outputId": "917da076-7420-44dd-c3d7-d0b4a38e863d"
      },
      "source": [
        "dataset['Weight (kg)'].dtype"
      ],
      "execution_count": 346,
      "outputs": [
        {
          "output_type": "execute_result",
          "data": {
            "text/plain": [
              "dtype('O')"
            ]
          },
          "metadata": {
            "tags": []
          },
          "execution_count": 346
        }
      ]
    },
    {
      "cell_type": "markdown",
      "metadata": {
        "id": "O2xMbd9XakTO"
      },
      "source": [
        "# Elimination of Non-digit except '.' value from each column\n",
        "Here for each non-digit value, they were replaced with '0'"
      ]
    },
    {
      "cell_type": "code",
      "metadata": {
        "colab": {
          "base_uri": "https://localhost:8080/"
        },
        "id": "0srwq0Sy-sCg",
        "outputId": "6ee5f06e-e81f-4357-9575-0e0c3c056ddb"
      },
      "source": [
        "idx=dataset['Weight (kg)'].str.find('[^\\d.]')\n",
        "print(dataset[idx==1.0])"
      ],
      "execution_count": 347,
      "outputs": [
        {
          "output_type": "stream",
          "text": [
            "Empty DataFrame\n",
            "Columns: [Product Id, Weight (kg), Length (m), Width (m), Height (m)]\n",
            "Index: []\n"
          ],
          "name": "stdout"
        }
      ]
    },
    {
      "cell_type": "code",
      "metadata": {
        "colab": {
          "base_uri": "https://localhost:8080/"
        },
        "id": "uwB2pg4vmSv-",
        "outputId": "fc6346f7-3017-40db-e2e8-08b6a0e495c5"
      },
      "source": [
        "dataset['Weight (kg)']=dataset['Weight (kg)'].str.replace('[^\\d.]','0')\n",
        "print(dataset[dataset['Product Id']==58422])"
      ],
      "execution_count": 348,
      "outputs": [
        {
          "output_type": "stream",
          "text": [
            "     Product Id Weight (kg) Length (m) Width (m) Height (m)\n",
            "671       58422          00       0.09      0.09       0.05\n"
          ],
          "name": "stdout"
        }
      ]
    },
    {
      "cell_type": "code",
      "metadata": {
        "id": "feicBMhAAaXf"
      },
      "source": [
        "dataset['Height (m)']=dataset['Height (m)'].str.replace('[^\\d.]','0')\n",
        "dataset['Length (m)']=dataset['Length (m)'].str.replace('[^\\d.]','0')\n",
        "dataset['Width (m)']=dataset['Width (m)'].str.replace('[^\\d.]','0')\n",
        "dataset['Weight (kg)']=dataset['Weight (kg)'].replace('.','0')"
      ],
      "execution_count": 349,
      "outputs": []
    },
    {
      "cell_type": "markdown",
      "metadata": {
        "id": "yj1CxloPbJjr"
      },
      "source": [
        "**But problem arises due to the presence of standalone '.' which are taken care of separately**"
      ]
    },
    {
      "cell_type": "code",
      "metadata": {
        "id": "wSXRo7ugDDcY"
      },
      "source": [
        "dataset['Height (m)']=dataset['Height (m)'].str.replace('.','0')\n",
        "dataset['Length (m)']=dataset['Length (m)'].str.replace('.','0')\n",
        "dataset['Width (m)']=dataset['Width (m)'].str.replace('.','0')"
      ],
      "execution_count": 350,
      "outputs": []
    },
    {
      "cell_type": "code",
      "metadata": {
        "id": "-cUlYK5XDO3n"
      },
      "source": [
        "dataset['Height (m)']=dataset['Height (m)'].astype(float)\n",
        "dataset['Length (m)']=dataset['Length (m)'].astype(float)\n",
        "dataset['Width (m)']=dataset['Width (m)'].astype(float)\n",
        "dataset['Weight (kg)']=dataset['Weight (kg)'].astype(float)"
      ],
      "execution_count": 351,
      "outputs": []
    },
    {
      "cell_type": "markdown",
      "metadata": {
        "id": "X5d6r9hGbZ0q"
      },
      "source": [
        "**Visualization for observing value distribution**"
      ]
    },
    {
      "cell_type": "code",
      "metadata": {
        "colab": {
          "base_uri": "https://localhost:8080/",
          "height": 283
        },
        "id": "bRflF4I-EFnO",
        "outputId": "6e758e07-1b1d-401d-d2e3-5b925112c83c"
      },
      "source": [
        "dataset['Height (m)'].hist(bins=100)"
      ],
      "execution_count": 352,
      "outputs": [
        {
          "output_type": "execute_result",
          "data": {
            "text/plain": [
              "<matplotlib.axes._subplots.AxesSubplot at 0x7fa055ef3e10>"
            ]
          },
          "metadata": {
            "tags": []
          },
          "execution_count": 352
        },
        {
          "output_type": "display_data",
          "data": {
            "image/png": "[encoded data removed]",
            "text/plain": [
              "<Figure size 432x288 with 1 Axes>"
            ]
          },
          "metadata": {
            "tags": [],
            "needs_background": "light"
          }
        }
      ]
    },
    {
      "cell_type": "code",
      "metadata": {
        "colab": {
          "base_uri": "https://localhost:8080/",
          "height": 285
        },
        "id": "pspDpkoKEo0B",
        "outputId": "3418005b-9c40-4f12-9dee-7c7a2d66ceb6"
      },
      "source": [
        "dataset['Weight (kg)'].hist(bins=100)"
      ],
      "execution_count": 353,
      "outputs": [
        {
          "output_type": "execute_result",
          "data": {
            "text/plain": [
              "<matplotlib.axes._subplots.AxesSubplot at 0x7fa055db78d0>"
            ]
          },
          "metadata": {
            "tags": []
          },
          "execution_count": 353
        },
        {
          "output_type": "display_data",
          "data": {
            "image/png": "[encoded data removed]",
            "text/plain": [
              "<Figure size 432x288 with 1 Axes>"
            ]
          },
          "metadata": {
            "tags": [],
            "needs_background": "light"
          }
        }
      ]
    },
    {
      "cell_type": "code",
      "metadata": {
        "colab": {
          "base_uri": "https://localhost:8080/",
          "height": 283
        },
        "id": "-Lf8D77MFbF7",
        "outputId": "e486b8f3-5ed8-4e45-a34b-9c4874066061"
      },
      "source": [
        "dataset['Width (m)'].hist(bins=100)"
      ],
      "execution_count": 354,
      "outputs": [
        {
          "output_type": "execute_result",
          "data": {
            "text/plain": [
              "<matplotlib.axes._subplots.AxesSubplot at 0x7fa055f06510>"
            ]
          },
          "metadata": {
            "tags": []
          },
          "execution_count": 354
        },
        {
          "output_type": "display_data",
          "data": {
            "image/png": "[encoded data removed]",
            "text/plain": [
              "<Figure size 432x288 with 1 Axes>"
            ]
          },
          "metadata": {
            "tags": [],
            "needs_background": "light"
          }
        }
      ]
    },
    {
      "cell_type": "markdown",
      "metadata": {
        "id": "IdNCUYjDfQvB"
      },
      "source": [
        "#**Visualization For Observing Relation and Outlier**\n"
      ]
    },
    {
      "cell_type": "code",
      "metadata": {
        "colab": {
          "base_uri": "https://localhost:8080/",
          "height": 279
        },
        "id": "5usNwtgLfQF_",
        "outputId": "1f11aa87-c528-4605-fbb1-577179c74b2b"
      },
      "source": [
        "plt.scatter(x=dataset['Height (m)'],y=dataset['Width (m)'])\n",
        "plt.xlabel('Height')\n",
        "plt.ylabel('Width')\n",
        "plt.show()"
      ],
      "execution_count": 355,
      "outputs": [
        {
          "output_type": "display_data",
          "data": {
            "image/png": "[encoded data removed]",
            "text/plain": [
              "<Figure size 432x288 with 1 Axes>"
            ]
          },
          "metadata": {
            "tags": [],
            "needs_background": "light"
          }
        }
      ]
    },
    {
      "cell_type": "code",
      "metadata": {
        "colab": {
          "base_uri": "https://localhost:8080/",
          "height": 279
        },
        "id": "5_5tlobLfnNB",
        "outputId": "88b03aba-35ac-4f6c-a5e7-8762dc25a54e"
      },
      "source": [
        "plt.scatter(x=dataset['Length (m)'],y=dataset['Weight (kg)'])\n",
        "plt.xlabel('Length')\n",
        "plt.ylabel('Weight')\n",
        "plt.show()"
      ],
      "execution_count": 356,
      "outputs": [
        {
          "output_type": "display_data",
          "data": {
            "image/png": "[encoded data removed]",
            "text/plain": [
              "<Figure size 432x288 with 1 Axes>"
            ]
          },
          "metadata": {
            "tags": [],
            "needs_background": "light"
          }
        }
      ]
    },
    {
      "cell_type": "code",
      "metadata": {
        "colab": {
          "base_uri": "https://localhost:8080/",
          "height": 279
        },
        "id": "tlu23vf0fr1b",
        "outputId": "a1cc18b4-916e-43ae-aad9-8e598d31056e"
      },
      "source": [
        "plt.scatter(x=dataset['Height (m)'],y=dataset['Weight (kg)'])\n",
        "plt.xlabel('Height')\n",
        "plt.ylabel('Weight')\n",
        "plt.show()"
      ],
      "execution_count": 357,
      "outputs": [
        {
          "output_type": "display_data",
          "data": {
            "image/png": "[encoded data removed]",
            "text/plain": [
              "<Figure size 432x288 with 1 Axes>"
            ]
          },
          "metadata": {
            "tags": [],
            "needs_background": "light"
          }
        }
      ]
    },
    {
      "cell_type": "code",
      "metadata": {
        "colab": {
          "base_uri": "https://localhost:8080/",
          "height": 279
        },
        "id": "W0NS4gzXfxr9",
        "outputId": "dad3ae51-3dba-4b72-aaa6-6d14ce88480a"
      },
      "source": [
        "plt.scatter(x=dataset['Width (m)'],y=dataset['Weight (kg)'])\n",
        "plt.xlabel('Height')\n",
        "plt.ylabel('Weight')\n",
        "plt.show()"
      ],
      "execution_count": 358,
      "outputs": [
        {
          "output_type": "display_data",
          "data": {
            "image/png": "[encoded data removed]",
            "text/plain": [
              "<Figure size 432x288 with 1 Axes>"
            ]
          },
          "metadata": {
            "tags": [],
            "needs_background": "light"
          }
        }
      ]
    },
    {
      "cell_type": "markdown",
      "metadata": {
        "id": "HJV2nVylbioi"
      },
      "source": [
        "# **Outlier detection and elimination** \n",
        "**Here interquartile range and upper bound has been used for detecting outlier and eliminating that**"
      ]
    },
    {
      "cell_type": "code",
      "metadata": {
        "colab": {
          "base_uri": "https://localhost:8080/",
          "height": 424
        },
        "id": "ZTzpkIzFcc7q",
        "outputId": "1192c23b-dbe6-4e5a-c301-40feded9279a"
      },
      "source": [
        "dataset[dataset['Height (m)']>1]"
      ],
      "execution_count": 359,
      "outputs": [
        {
          "output_type": "execute_result",
          "data": {
            "text/html": [
              "<div>\n",
              "<style scoped>\n",
              "    .dataframe tbody tr th:only-of-type {\n",
              "        vertical-align: middle;\n",
              "    }\n",
              "\n",
              "    .dataframe tbody tr th {\n",
              "        vertical-align: top;\n",
              "    }\n",
              "\n",
              "    .dataframe thead th {\n",
              "        text-align: right;\n",
              "    }\n",
              "</style>\n",
              "<table border=\"1\" class=\"dataframe\">\n",
              "  <thead>\n",
              "    <tr style=\"text-align: right;\">\n",
              "      <th></th>\n",
              "      <th>Product Id</th>\n",
              "      <th>Weight (kg)</th>\n",
              "      <th>Length (m)</th>\n",
              "      <th>Width (m)</th>\n",
              "      <th>Height (m)</th>\n",
              "    </tr>\n",
              "  </thead>\n",
              "  <tbody>\n",
              "    <tr>\n",
              "      <th>0</th>\n",
              "      <td>44331</td>\n",
              "      <td>1.0250</td>\n",
              "      <td>2286.0</td>\n",
              "      <td>1524.0</td>\n",
              "      <td>508.0</td>\n",
              "    </tr>\n",
              "    <tr>\n",
              "      <th>1</th>\n",
              "      <td>44352</td>\n",
              "      <td>0.5040</td>\n",
              "      <td>14.0</td>\n",
              "      <td>4.0</td>\n",
              "      <td>16.0</td>\n",
              "    </tr>\n",
              "    <tr>\n",
              "      <th>2</th>\n",
              "      <td>44373</td>\n",
              "      <td>0.4880</td>\n",
              "      <td>105.0</td>\n",
              "      <td>105.0</td>\n",
              "      <td>75.0</td>\n",
              "    </tr>\n",
              "    <tr>\n",
              "      <th>3</th>\n",
              "      <td>44394</td>\n",
              "      <td>1.0028</td>\n",
              "      <td>11.0</td>\n",
              "      <td>11.0</td>\n",
              "      <td>15.0</td>\n",
              "    </tr>\n",
              "    <tr>\n",
              "      <th>4</th>\n",
              "      <td>44415</td>\n",
              "      <td>0.5500</td>\n",
              "      <td>13.0</td>\n",
              "      <td>13.0</td>\n",
              "      <td>11.0</td>\n",
              "    </tr>\n",
              "    <tr>\n",
              "      <th>...</th>\n",
              "      <td>...</td>\n",
              "      <td>...</td>\n",
              "      <td>...</td>\n",
              "      <td>...</td>\n",
              "      <td>...</td>\n",
              "    </tr>\n",
              "    <tr>\n",
              "      <th>3051</th>\n",
              "      <td>129192</td>\n",
              "      <td>0.1780</td>\n",
              "      <td>105.0</td>\n",
              "      <td>105.0</td>\n",
              "      <td>35.0</td>\n",
              "    </tr>\n",
              "    <tr>\n",
              "      <th>3053</th>\n",
              "      <td>129234</td>\n",
              "      <td>0.0061</td>\n",
              "      <td>13.0</td>\n",
              "      <td>5.0</td>\n",
              "      <td>3.0</td>\n",
              "    </tr>\n",
              "    <tr>\n",
              "      <th>3054</th>\n",
              "      <td>129255</td>\n",
              "      <td>0.0114</td>\n",
              "      <td>6.0</td>\n",
              "      <td>3.0</td>\n",
              "      <td>16.0</td>\n",
              "    </tr>\n",
              "    <tr>\n",
              "      <th>3055</th>\n",
              "      <td>129276</td>\n",
              "      <td>0.3000</td>\n",
              "      <td>6.0</td>\n",
              "      <td>42.0</td>\n",
              "      <td>195.0</td>\n",
              "    </tr>\n",
              "    <tr>\n",
              "      <th>3057</th>\n",
              "      <td>129318</td>\n",
              "      <td>0.7980</td>\n",
              "      <td>115.0</td>\n",
              "      <td>5.0</td>\n",
              "      <td>235.0</td>\n",
              "    </tr>\n",
              "  </tbody>\n",
              "</table>\n",
              "<p>1466 rows × 5 columns</p>\n",
              "</div>"
            ],
            "text/plain": [
              "      Product Id  Weight (kg)  Length (m)  Width (m)  Height (m)\n",
              "0          44331       1.0250      2286.0     1524.0       508.0\n",
              "1          44352       0.5040        14.0        4.0        16.0\n",
              "2          44373       0.4880       105.0      105.0        75.0\n",
              "3          44394       1.0028        11.0       11.0        15.0\n",
              "4          44415       0.5500        13.0       13.0        11.0\n",
              "...          ...          ...         ...        ...         ...\n",
              "3051      129192       0.1780       105.0      105.0        35.0\n",
              "3053      129234       0.0061        13.0        5.0         3.0\n",
              "3054      129255       0.0114         6.0        3.0        16.0\n",
              "3055      129276       0.3000         6.0       42.0       195.0\n",
              "3057      129318       0.7980       115.0        5.0       235.0\n",
              "\n",
              "[1466 rows x 5 columns]"
            ]
          },
          "metadata": {
            "tags": []
          },
          "execution_count": 359
        }
      ]
    },
    {
      "cell_type": "code",
      "metadata": {
        "id": "p8m4WI4cLHWT"
      },
      "source": [
        "#Outlier detection\n",
        "def upper_bound(name):\n",
        "  q1=dataset[name].quantile(0.25)\n",
        "  q2=dataset[name].quantile(0.75)\n",
        "  print(q1,q2,q2-q1)\n",
        "  lb=q1-(1.5*(q2-q1))\n",
        "  ub=q2+(1.5*(q2-q1))\n",
        "  print(lb,ub)\n",
        "  return ub"
      ],
      "execution_count": 360,
      "outputs": []
    },
    {
      "cell_type": "code",
      "metadata": {
        "colab": {
          "base_uri": "https://localhost:8080/"
        },
        "id": "KK128yyqQwlR",
        "outputId": "5bfe2d1c-3a6d-46a6-e394-f8f57bfc9905"
      },
      "source": [
        "ub_h=upper_bound('Height (m)')\n",
        "ub_wei=upper_bound('Weight (kg)')\n",
        "ub_wid=upper_bound('Width (m)')\n",
        "ub_len=upper_bound('Length (m)')"
      ],
      "execution_count": 361,
      "outputs": [
        {
          "output_type": "stream",
          "text": [
            "0.0 16.0 16.0\n",
            "-24.0 40.0\n",
            "0.0 0.256 0.256\n",
            "-0.384 0.64\n",
            "0.0 11.0 11.0\n",
            "-16.5 27.5\n",
            "0.0 15.0 15.0\n",
            "-22.5 37.5\n"
          ],
          "name": "stdout"
        }
      ]
    },
    {
      "cell_type": "code",
      "metadata": {
        "id": "9Ap41uuTRWX6"
      },
      "source": [
        "dataset.loc[dataset['Height (m)']>ub_h,'Height (m)']=ub_h\n",
        "dataset.loc[dataset['Width (m)']>ub_h,'Width (m)']=ub_wid\n",
        "dataset.loc[dataset['Weight (kg)']>ub_h,'Weight (kg)']=ub_wei\n",
        "dataset.loc[dataset['Length (m)']>ub_h,'Length (m)']=ub_len"
      ],
      "execution_count": 362,
      "outputs": []
    },
    {
      "cell_type": "code",
      "metadata": {
        "colab": {
          "base_uri": "https://localhost:8080/"
        },
        "id": "s0BGHLE0BWgJ",
        "outputId": "6cf206d9-7d53-44bf-8a00-76acfb87dbf5"
      },
      "source": [
        "#Now we will be start talking about null values\n",
        "index=dataset['Height (m)'].isna()\n",
        "print(dataset[index==True])"
      ],
      "execution_count": 363,
      "outputs": [
        {
          "output_type": "stream",
          "text": [
            "      Product Id  Weight (kg)  Length (m)  Width (m)  Height (m)\n",
            "94         46305        1.004        26.0       19.0         NaN\n",
            "157        47628        0.144         6.0        5.0         NaN\n",
            "381        52332        1.900         1.0        1.0         NaN\n",
            "3019      128520        0.454         7.0        4.0         NaN\n"
          ],
          "name": "stdout"
        }
      ]
    },
    {
      "cell_type": "code",
      "metadata": {
        "colab": {
          "base_uri": "https://localhost:8080/"
        },
        "id": "pu7sbzovDia3",
        "outputId": "a0940d81-40b8-4043-f451-4cdc3efea224"
      },
      "source": [
        "med=dataset['Height (m)'].median()\n",
        "print(med)"
      ],
      "execution_count": 364,
      "outputs": [
        {
          "output_type": "stream",
          "text": [
            "0.5\n"
          ],
          "name": "stdout"
        }
      ]
    },
    {
      "cell_type": "markdown",
      "metadata": {
        "id": "3cuhNGMMcQDH"
      },
      "source": [
        "**Change of dataset value can be observed due to outlier processing here**"
      ]
    },
    {
      "cell_type": "code",
      "metadata": {
        "colab": {
          "base_uri": "https://localhost:8080/",
          "height": 424
        },
        "id": "XEhptvjvGJ2g",
        "outputId": "997f863a-e0d1-4bfb-ae65-384c120e4254"
      },
      "source": [
        "dataset[dataset['Height (m)']>1]"
      ],
      "execution_count": 365,
      "outputs": [
        {
          "output_type": "execute_result",
          "data": {
            "text/html": [
              "<div>\n",
              "<style scoped>\n",
              "    .dataframe tbody tr th:only-of-type {\n",
              "        vertical-align: middle;\n",
              "    }\n",
              "\n",
              "    .dataframe tbody tr th {\n",
              "        vertical-align: top;\n",
              "    }\n",
              "\n",
              "    .dataframe thead th {\n",
              "        text-align: right;\n",
              "    }\n",
              "</style>\n",
              "<table border=\"1\" class=\"dataframe\">\n",
              "  <thead>\n",
              "    <tr style=\"text-align: right;\">\n",
              "      <th></th>\n",
              "      <th>Product Id</th>\n",
              "      <th>Weight (kg)</th>\n",
              "      <th>Length (m)</th>\n",
              "      <th>Width (m)</th>\n",
              "      <th>Height (m)</th>\n",
              "    </tr>\n",
              "  </thead>\n",
              "  <tbody>\n",
              "    <tr>\n",
              "      <th>0</th>\n",
              "      <td>44331</td>\n",
              "      <td>1.0250</td>\n",
              "      <td>37.5</td>\n",
              "      <td>27.5</td>\n",
              "      <td>40.0</td>\n",
              "    </tr>\n",
              "    <tr>\n",
              "      <th>1</th>\n",
              "      <td>44352</td>\n",
              "      <td>0.5040</td>\n",
              "      <td>14.0</td>\n",
              "      <td>4.0</td>\n",
              "      <td>16.0</td>\n",
              "    </tr>\n",
              "    <tr>\n",
              "      <th>2</th>\n",
              "      <td>44373</td>\n",
              "      <td>0.4880</td>\n",
              "      <td>37.5</td>\n",
              "      <td>27.5</td>\n",
              "      <td>40.0</td>\n",
              "    </tr>\n",
              "    <tr>\n",
              "      <th>3</th>\n",
              "      <td>44394</td>\n",
              "      <td>1.0028</td>\n",
              "      <td>11.0</td>\n",
              "      <td>11.0</td>\n",
              "      <td>15.0</td>\n",
              "    </tr>\n",
              "    <tr>\n",
              "      <th>4</th>\n",
              "      <td>44415</td>\n",
              "      <td>0.5500</td>\n",
              "      <td>13.0</td>\n",
              "      <td>13.0</td>\n",
              "      <td>11.0</td>\n",
              "    </tr>\n",
              "    <tr>\n",
              "      <th>...</th>\n",
              "      <td>...</td>\n",
              "      <td>...</td>\n",
              "      <td>...</td>\n",
              "      <td>...</td>\n",
              "      <td>...</td>\n",
              "    </tr>\n",
              "    <tr>\n",
              "      <th>3051</th>\n",
              "      <td>129192</td>\n",
              "      <td>0.1780</td>\n",
              "      <td>37.5</td>\n",
              "      <td>27.5</td>\n",
              "      <td>35.0</td>\n",
              "    </tr>\n",
              "    <tr>\n",
              "      <th>3053</th>\n",
              "      <td>129234</td>\n",
              "      <td>0.0061</td>\n",
              "      <td>13.0</td>\n",
              "      <td>5.0</td>\n",
              "      <td>3.0</td>\n",
              "    </tr>\n",
              "    <tr>\n",
              "      <th>3054</th>\n",
              "      <td>129255</td>\n",
              "      <td>0.0114</td>\n",
              "      <td>6.0</td>\n",
              "      <td>3.0</td>\n",
              "      <td>16.0</td>\n",
              "    </tr>\n",
              "    <tr>\n",
              "      <th>3055</th>\n",
              "      <td>129276</td>\n",
              "      <td>0.3000</td>\n",
              "      <td>6.0</td>\n",
              "      <td>27.5</td>\n",
              "      <td>40.0</td>\n",
              "    </tr>\n",
              "    <tr>\n",
              "      <th>3057</th>\n",
              "      <td>129318</td>\n",
              "      <td>0.7980</td>\n",
              "      <td>37.5</td>\n",
              "      <td>5.0</td>\n",
              "      <td>40.0</td>\n",
              "    </tr>\n",
              "  </tbody>\n",
              "</table>\n",
              "<p>1466 rows × 5 columns</p>\n",
              "</div>"
            ],
            "text/plain": [
              "      Product Id  Weight (kg)  Length (m)  Width (m)  Height (m)\n",
              "0          44331       1.0250        37.5       27.5        40.0\n",
              "1          44352       0.5040        14.0        4.0        16.0\n",
              "2          44373       0.4880        37.5       27.5        40.0\n",
              "3          44394       1.0028        11.0       11.0        15.0\n",
              "4          44415       0.5500        13.0       13.0        11.0\n",
              "...          ...          ...         ...        ...         ...\n",
              "3051      129192       0.1780        37.5       27.5        35.0\n",
              "3053      129234       0.0061        13.0        5.0         3.0\n",
              "3054      129255       0.0114         6.0        3.0        16.0\n",
              "3055      129276       0.3000         6.0       27.5        40.0\n",
              "3057      129318       0.7980        37.5        5.0        40.0\n",
              "\n",
              "[1466 rows x 5 columns]"
            ]
          },
          "metadata": {
            "tags": []
          },
          "execution_count": 365
        }
      ]
    },
    {
      "cell_type": "markdown",
      "metadata": {
        "id": "v7hz917scgR6"
      },
      "source": [
        "**Note: Here Median is more convenient and should be used and could also be used for empty filling but for empty values of height filling with mean value makes coherency between length,weight,height that's why it was used** **Another reason of using mean was to avoid more null values**"
      ]
    },
    {
      "cell_type": "code",
      "metadata": {
        "colab": {
          "base_uri": "https://localhost:8080/"
        },
        "id": "Zg7LHUokB8FY",
        "outputId": "cc15dd8e-7869-4556-babb-af6dd4582f96"
      },
      "source": [
        "dataset['Height (m)']=dataset['Height (m)'].fillna(dataset['Height (m)'].mean())\n",
        "print(dataset[index==True])"
      ],
      "execution_count": 366,
      "outputs": [
        {
          "output_type": "stream",
          "text": [
            "      Product Id  Weight (kg)  Length (m)  Width (m)  Height (m)\n",
            "94         46305        1.004        26.0       19.0    9.748199\n",
            "157        47628        0.144         6.0        5.0    9.748199\n",
            "381        52332        1.900         1.0        1.0    9.748199\n",
            "3019      128520        0.454         7.0        4.0    9.748199\n"
          ],
          "name": "stdout"
        }
      ]
    },
    {
      "cell_type": "code",
      "metadata": {
        "colab": {
          "base_uri": "https://localhost:8080/"
        },
        "id": "M2VzrYbqVIKU",
        "outputId": "ad731915-7c89-4fd8-b961-b909b39d3c02"
      },
      "source": [
        "index=dataset['Width (m)'].isna()\n",
        "print(dataset[dataset['Width (m)'].isna()])"
      ],
      "execution_count": 367,
      "outputs": [
        {
          "output_type": "stream",
          "text": [
            "     Product Id  Weight (kg)  Length (m)  Width (m)  Height (m)\n",
            "236       49287        0.278        13.0        NaN        13.0\n",
            "614       57225        0.766        22.0        NaN         2.0\n"
          ],
          "name": "stdout"
        }
      ]
    },
    {
      "cell_type": "code",
      "metadata": {
        "colab": {
          "base_uri": "https://localhost:8080/"
        },
        "id": "02Vq1fpSTWR4",
        "outputId": "708bdb0d-ccf6-40bb-8d45-590d7c8569e1"
      },
      "source": [
        "dataset['Width (m)']=dataset['Width (m)'].fillna(dataset['Width (m)'].mean())\n",
        "print(dataset[dataset['Width (m)'].isna()])\n",
        "print(dataset[index])"
      ],
      "execution_count": 368,
      "outputs": [
        {
          "output_type": "stream",
          "text": [
            "Empty DataFrame\n",
            "Columns: [Product Id, Weight (kg), Length (m), Width (m), Height (m)]\n",
            "Index: []\n",
            "     Product Id  Weight (kg)  Length (m)  Width (m)  Height (m)\n",
            "236       49287        0.278        13.0   7.125982        13.0\n",
            "614       57225        0.766        22.0   7.125982         2.0\n"
          ],
          "name": "stdout"
        }
      ]
    },
    {
      "cell_type": "code",
      "metadata": {
        "colab": {
          "base_uri": "https://localhost:8080/"
        },
        "id": "WLNXcA2uVWkI",
        "outputId": "5527b96f-1664-41c6-989a-e1746d618c24"
      },
      "source": [
        "index=dataset['Weight (kg)'].isna()\n",
        "print(dataset[dataset['Weight (kg)'].isna()])"
      ],
      "execution_count": 369,
      "outputs": [
        {
          "output_type": "stream",
          "text": [
            "     Product Id  Weight (kg)  Length (m)  Width (m)  Height (m)\n",
            "33        45024          NaN        37.5       27.5        40.0\n",
            "122       46893          NaN        16.0       12.0         3.0\n",
            "188       48279          NaN        14.0        9.0        40.0\n",
            "424       53235          NaN         8.0        8.0        40.0\n"
          ],
          "name": "stdout"
        }
      ]
    },
    {
      "cell_type": "code",
      "metadata": {
        "colab": {
          "base_uri": "https://localhost:8080/"
        },
        "id": "i42OqaZBWYbB",
        "outputId": "fe9d8daf-ad4c-45c0-aaca-96889afc2477"
      },
      "source": [
        "dataset['Weight (kg)']=dataset['Weight (kg)'].fillna(dataset['Weight (kg)'].mean())\n",
        "print(dataset[dataset['Weight (kg)'].isna()])\n",
        "print(dataset[index])"
      ],
      "execution_count": 370,
      "outputs": [
        {
          "output_type": "stream",
          "text": [
            "Empty DataFrame\n",
            "Columns: [Product Id, Weight (kg), Length (m), Width (m), Height (m)]\n",
            "Index: []\n",
            "     Product Id  Weight (kg)  Length (m)  Width (m)  Height (m)\n",
            "33        45024      0.23737        37.5       27.5        40.0\n",
            "122       46893      0.23737        16.0       12.0         3.0\n",
            "188       48279      0.23737        14.0        9.0        40.0\n",
            "424       53235      0.23737         8.0        8.0        40.0\n"
          ],
          "name": "stdout"
        }
      ]
    },
    {
      "cell_type": "code",
      "metadata": {
        "colab": {
          "base_uri": "https://localhost:8080/"
        },
        "id": "WywmzaxaW8cf",
        "outputId": "4867cec8-a61d-47dc-f064-6fbb8b421dd5"
      },
      "source": [
        "index=dataset['Length (m)'].isna()\n",
        "print(dataset[dataset['Length (m)'].isna()])"
      ],
      "execution_count": 371,
      "outputs": [
        {
          "output_type": "stream",
          "text": [
            "     Product Id  Weight (kg)  Length (m)  Width (m)  Height (m)\n",
            "46        45297        0.022         NaN       16.0         7.0\n",
            "284       50295        0.000         NaN        0.0         0.0\n",
            "285       50316        0.005         NaN        9.0         3.0\n",
            "353       51744        0.000         NaN        0.0         0.0\n",
            "552       55923        0.012         NaN        1.0         2.0\n"
          ],
          "name": "stdout"
        }
      ]
    },
    {
      "cell_type": "code",
      "metadata": {
        "colab": {
          "base_uri": "https://localhost:8080/"
        },
        "id": "W3s1OKuvXEA7",
        "outputId": "81fcebbb-f8b9-4779-9e90-c657945de6d3"
      },
      "source": [
        "dataset['Length (m)']=dataset['Length (m)'].fillna(dataset['Length (m)'].mean())#Median can also be used produces zero that's why ignored\n",
        "print(dataset[dataset['Length (m)'].isna()])\n",
        "print(dataset[index])"
      ],
      "execution_count": 372,
      "outputs": [
        {
          "output_type": "stream",
          "text": [
            "Empty DataFrame\n",
            "Columns: [Product Id, Weight (kg), Length (m), Width (m), Height (m)]\n",
            "Index: []\n",
            "     Product Id  Weight (kg)  Length (m)  Width (m)  Height (m)\n",
            "46        45297        0.022    9.696037       16.0         7.0\n",
            "284       50295        0.000    9.696037        0.0         0.0\n",
            "285       50316        0.005    9.696037        9.0         3.0\n",
            "353       51744        0.000    9.696037        0.0         0.0\n",
            "552       55923        0.012    9.696037        1.0         2.0\n"
          ],
          "name": "stdout"
        }
      ]
    },
    {
      "cell_type": "code",
      "metadata": {
        "colab": {
          "base_uri": "https://localhost:8080/",
          "height": 676
        },
        "id": "Bh36Dm0Zd5bw",
        "outputId": "15cebf83-1ea3-4da0-86eb-c74c81eb7834"
      },
      "source": [
        "dataset.head(20)"
      ],
      "execution_count": 373,
      "outputs": [
        {
          "output_type": "execute_result",
          "data": {
            "text/html": [
              "<div>\n",
              "<style scoped>\n",
              "    .dataframe tbody tr th:only-of-type {\n",
              "        vertical-align: middle;\n",
              "    }\n",
              "\n",
              "    .dataframe tbody tr th {\n",
              "        vertical-align: top;\n",
              "    }\n",
              "\n",
              "    .dataframe thead th {\n",
              "        text-align: right;\n",
              "    }\n",
              "</style>\n",
              "<table border=\"1\" class=\"dataframe\">\n",
              "  <thead>\n",
              "    <tr style=\"text-align: right;\">\n",
              "      <th></th>\n",
              "      <th>Product Id</th>\n",
              "      <th>Weight (kg)</th>\n",
              "      <th>Length (m)</th>\n",
              "      <th>Width (m)</th>\n",
              "      <th>Height (m)</th>\n",
              "    </tr>\n",
              "  </thead>\n",
              "  <tbody>\n",
              "    <tr>\n",
              "      <th>0</th>\n",
              "      <td>44331</td>\n",
              "      <td>1.0250</td>\n",
              "      <td>37.5</td>\n",
              "      <td>27.5</td>\n",
              "      <td>40.0</td>\n",
              "    </tr>\n",
              "    <tr>\n",
              "      <th>1</th>\n",
              "      <td>44352</td>\n",
              "      <td>0.5040</td>\n",
              "      <td>14.0</td>\n",
              "      <td>4.0</td>\n",
              "      <td>16.0</td>\n",
              "    </tr>\n",
              "    <tr>\n",
              "      <th>2</th>\n",
              "      <td>44373</td>\n",
              "      <td>0.4880</td>\n",
              "      <td>37.5</td>\n",
              "      <td>27.5</td>\n",
              "      <td>40.0</td>\n",
              "    </tr>\n",
              "    <tr>\n",
              "      <th>3</th>\n",
              "      <td>44394</td>\n",
              "      <td>1.0028</td>\n",
              "      <td>11.0</td>\n",
              "      <td>11.0</td>\n",
              "      <td>15.0</td>\n",
              "    </tr>\n",
              "    <tr>\n",
              "      <th>4</th>\n",
              "      <td>44415</td>\n",
              "      <td>0.5500</td>\n",
              "      <td>13.0</td>\n",
              "      <td>13.0</td>\n",
              "      <td>11.0</td>\n",
              "    </tr>\n",
              "    <tr>\n",
              "      <th>5</th>\n",
              "      <td>44436</td>\n",
              "      <td>0.0450</td>\n",
              "      <td>8.0</td>\n",
              "      <td>8.0</td>\n",
              "      <td>26.0</td>\n",
              "    </tr>\n",
              "    <tr>\n",
              "      <th>6</th>\n",
              "      <td>44457</td>\n",
              "      <td>0.2240</td>\n",
              "      <td>15.0</td>\n",
              "      <td>13.0</td>\n",
              "      <td>3.0</td>\n",
              "    </tr>\n",
              "    <tr>\n",
              "      <th>7</th>\n",
              "      <td>44478</td>\n",
              "      <td>0.2460</td>\n",
              "      <td>13.0</td>\n",
              "      <td>3.0</td>\n",
              "      <td>14.0</td>\n",
              "    </tr>\n",
              "    <tr>\n",
              "      <th>8</th>\n",
              "      <td>44499</td>\n",
              "      <td>2.0030</td>\n",
              "      <td>36.0</td>\n",
              "      <td>26.0</td>\n",
              "      <td>4.0</td>\n",
              "    </tr>\n",
              "    <tr>\n",
              "      <th>9</th>\n",
              "      <td>44520</td>\n",
              "      <td>1.0018</td>\n",
              "      <td>28.0</td>\n",
              "      <td>21.0</td>\n",
              "      <td>5.0</td>\n",
              "    </tr>\n",
              "    <tr>\n",
              "      <th>10</th>\n",
              "      <td>44541</td>\n",
              "      <td>1.0050</td>\n",
              "      <td>37.5</td>\n",
              "      <td>27.5</td>\n",
              "      <td>40.0</td>\n",
              "    </tr>\n",
              "    <tr>\n",
              "      <th>11</th>\n",
              "      <td>44562</td>\n",
              "      <td>0.0497</td>\n",
              "      <td>22.0</td>\n",
              "      <td>14.0</td>\n",
              "      <td>25.0</td>\n",
              "    </tr>\n",
              "    <tr>\n",
              "      <th>12</th>\n",
              "      <td>44583</td>\n",
              "      <td>0.0000</td>\n",
              "      <td>0.0</td>\n",
              "      <td>0.0</td>\n",
              "      <td>0.0</td>\n",
              "    </tr>\n",
              "    <tr>\n",
              "      <th>13</th>\n",
              "      <td>44604</td>\n",
              "      <td>0.0700</td>\n",
              "      <td>37.5</td>\n",
              "      <td>9.0</td>\n",
              "      <td>3.0</td>\n",
              "    </tr>\n",
              "    <tr>\n",
              "      <th>14</th>\n",
              "      <td>44625</td>\n",
              "      <td>0.5000</td>\n",
              "      <td>7.0</td>\n",
              "      <td>7.0</td>\n",
              "      <td>14.0</td>\n",
              "    </tr>\n",
              "    <tr>\n",
              "      <th>15</th>\n",
              "      <td>44646</td>\n",
              "      <td>0.5000</td>\n",
              "      <td>7.0</td>\n",
              "      <td>7.0</td>\n",
              "      <td>14.0</td>\n",
              "    </tr>\n",
              "    <tr>\n",
              "      <th>16</th>\n",
              "      <td>44667</td>\n",
              "      <td>0.0560</td>\n",
              "      <td>37.5</td>\n",
              "      <td>27.5</td>\n",
              "      <td>25.0</td>\n",
              "    </tr>\n",
              "    <tr>\n",
              "      <th>17</th>\n",
              "      <td>44688</td>\n",
              "      <td>0.5540</td>\n",
              "      <td>8.0</td>\n",
              "      <td>5.0</td>\n",
              "      <td>22.0</td>\n",
              "    </tr>\n",
              "    <tr>\n",
              "      <th>18</th>\n",
              "      <td>44709</td>\n",
              "      <td>0.4200</td>\n",
              "      <td>7.0</td>\n",
              "      <td>7.0</td>\n",
              "      <td>40.0</td>\n",
              "    </tr>\n",
              "    <tr>\n",
              "      <th>19</th>\n",
              "      <td>44730</td>\n",
              "      <td>0.7820</td>\n",
              "      <td>8.0</td>\n",
              "      <td>8.0</td>\n",
              "      <td>15.0</td>\n",
              "    </tr>\n",
              "  </tbody>\n",
              "</table>\n",
              "</div>"
            ],
            "text/plain": [
              "    Product Id  Weight (kg)  Length (m)  Width (m)  Height (m)\n",
              "0        44331       1.0250        37.5       27.5        40.0\n",
              "1        44352       0.5040        14.0        4.0        16.0\n",
              "2        44373       0.4880        37.5       27.5        40.0\n",
              "3        44394       1.0028        11.0       11.0        15.0\n",
              "4        44415       0.5500        13.0       13.0        11.0\n",
              "5        44436       0.0450         8.0        8.0        26.0\n",
              "6        44457       0.2240        15.0       13.0         3.0\n",
              "7        44478       0.2460        13.0        3.0        14.0\n",
              "8        44499       2.0030        36.0       26.0         4.0\n",
              "9        44520       1.0018        28.0       21.0         5.0\n",
              "10       44541       1.0050        37.5       27.5        40.0\n",
              "11       44562       0.0497        22.0       14.0        25.0\n",
              "12       44583       0.0000         0.0        0.0         0.0\n",
              "13       44604       0.0700        37.5        9.0         3.0\n",
              "14       44625       0.5000         7.0        7.0        14.0\n",
              "15       44646       0.5000         7.0        7.0        14.0\n",
              "16       44667       0.0560        37.5       27.5        25.0\n",
              "17       44688       0.5540         8.0        5.0        22.0\n",
              "18       44709       0.4200         7.0        7.0        40.0\n",
              "19       44730       0.7820         8.0        8.0        15.0"
            ]
          },
          "metadata": {
            "tags": []
          },
          "execution_count": 373
        }
      ]
    },
    {
      "cell_type": "code",
      "metadata": {
        "colab": {
          "base_uri": "https://localhost:8080/",
          "height": 279
        },
        "id": "dV1EP5Y2eyYt",
        "outputId": "256a4f8e-00c4-45c1-dc45-c6c52623b9aa"
      },
      "source": [
        "plt.scatter(x=dataset['Height (m)'],y=dataset['Width (m)'])\n",
        "plt.xlabel('Height')\n",
        "plt.ylabel('Width')\n",
        "plt.show()"
      ],
      "execution_count": 374,
      "outputs": [
        {
          "output_type": "display_data",
          "data": {
            "image/png": "[encoded data removed]",
            "text/plain": [
              "<Figure size 432x288 with 1 Axes>"
            ]
          },
          "metadata": {
            "tags": [],
            "needs_background": "light"
          }
        }
      ]
    },
    {
      "cell_type": "markdown",
      "metadata": {
        "id": "_SYAGWpteCoz"
      },
      "source": [
        "**In this particular set 0 values came always as a set(height,weight,length,width) that's why I haven't replaced them but they could be replaced with mean/median/arbitary values**"
      ]
    }
  ]
}